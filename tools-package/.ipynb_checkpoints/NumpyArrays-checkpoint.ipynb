{
 "cells": [
  {
   "cell_type": "markdown",
   "metadata": {},
   "source": [
    "![](./scipy-numpy.png)"
   ]
  },
  {
   "cell_type": "markdown",
   "metadata": {
    "slideshow": {
     "slide_type": "slide"
    }
   },
   "source": [
    "# NumPy arrays: Creation and handling\n",
    "\n",
    "*Computer tools for Astronomers*\n",
    "\n",
    "This first part is an enhanced version of the slide about fundamental array handling in Numpy/SciPy.\n",
    "\n",
    "Basically, all I have done here is to add some plots that visualize the arrays with colors, because it makes it clearer what happens when we perform the different operations .For thispurpose, I am introducing the function `imshow()` from Matplotlib. We shall look more at plotting later; for now it is enough to know that `imshow()` can translate the value of each array element into a color, which can make it quite a bit easier to see whatis going on in the array than just looking at a bunch of numbers.\n",
    "\n",
    "\n",
    "> **Please note**: I am using the notebook interface to write this, since it is great for making\n",
    "> demos of all the feature. However, I recommend that you try the code below in the terminal or QtConsole \n",
    "> interface, as these have some features that this doesn't. \n",
    "> For example, the plots will show up in an interactive window that allow, panning zooming, etc., unlike this \n",
    "> interface that produces static raster images of the plots."
   ]
  },
  {
   "cell_type": "code",
   "execution_count": null,
   "metadata": {
    "collapsed": true
   },
   "outputs": [],
   "source": [
    "import scipy as sp\n",
    "import matplotlib.pyplot as plt\n",
    "from scipy import random as ra   # Purely laziness\n",
    "# Only do this if you are working in the Notebook interface:\n",
    "%matplotlib inline        "
   ]
  },
  {
   "cell_type": "markdown",
   "metadata": {
    "slideshow": {
     "slide_type": "slide"
    }
   },
   "source": [
    "### Array construction\n",
    "\n",
    "The simplest way to define an array is by feeding it a list of numbers."
   ]
  },
  {
   "cell_type": "code",
   "execution_count": null,
   "metadata": {
    "collapsed": true
   },
   "outputs": [],
   "source": [
    "a = sp.array([1., 2., 3.])\n",
    "print a"
   ]
  },
  {
   "cell_type": "markdown",
   "metadata": {
    "slideshow": {
     "slide_type": "slide"
    }
   },
   "source": [
    "If you want a 2D array, feed it a list of lists of numbers:"
   ]
  },
  {
   "cell_type": "code",
   "execution_count": null,
   "metadata": {
    "collapsed": true
   },
   "outputs": [],
   "source": [
    "a = sp.array([[1., 2., 3.], \n",
    "              [4., 5., 6.],\n",
    "              [7., 8., 9.]])\n",
    "print a"
   ]
  },
  {
   "cell_type": "markdown",
   "metadata": {},
   "source": [
    "NB! In the above, the line breaks are only there to look good. We could just as well have written:\n",
    "```python\n",
    "a = sp.array([[1., 2., 3.], [4., 5., 6.], [7., 8., 9.]])\n",
    "```\n",
    "Now I have been reassigning values to the variable name '`a`' a few times. Let's keep it the next time:"
   ]
  },
  {
   "cell_type": "code",
   "execution_count": null,
   "metadata": {
    "collapsed": true
   },
   "outputs": [],
   "source": [
    "a = sp.zeros((8, 8)); print a"
   ]
  },
  {
   "cell_type": "markdown",
   "metadata": {},
   "source": [
    "What we wrote here was \"create an array of $8 \\times 8$ elements and set them all to zero\".\n",
    "\n",
    "There's another convenience function called `ones()`, which can also be called with a tuple of numbers:"
   ]
  },
  {
   "cell_type": "code",
   "execution_count": null,
   "metadata": {
    "collapsed": true
   },
   "outputs": [],
   "source": [
    "b = sp.ones((8, 8))\n",
    "print b"
   ]
  },
  {
   "cell_type": "markdown",
   "metadata": {},
   "source": [
    "Besides, there are also the convenience functions `zeros_like()` and `ones_like()` that take another array as the input and returns an array of zeros resp. ones of the same size as the input array:"
   ]
  },
  {
   "cell_type": "code",
   "execution_count": null,
   "metadata": {
    "collapsed": true
   },
   "outputs": [],
   "source": [
    "b = sp.ones_like(a)\n",
    "print(b)"
   ]
  },
  {
   "cell_type": "markdown",
   "metadata": {},
   "source": [
    "An array can be reshaped to any shape you want, as long as it has the correct number of elements:"
   ]
  },
  {
   "cell_type": "code",
   "execution_count": null,
   "metadata": {
    "collapsed": true
   },
   "outputs": [],
   "source": [
    "b = sp.ones_like(a).reshape((4, 16)) \n",
    "print b"
   ]
  },
  {
   "cell_type": "code",
   "execution_count": null,
   "metadata": {
    "collapsed": true
   },
   "outputs": [],
   "source": [
    "print(b.transpose())   # Or b.T = easier to write but less explicit.   \n",
    "b = b.reshape((8, 8))  # Just to get the good ol' `b` array back."
   ]
  },
  {
   "cell_type": "markdown",
   "metadata": {},
   "source": [
    "There are a number of different random number generating functions, the simplest of which is `scipy.random.random()`.\n",
    "Since in the imports section we have already abbreviated `scipy.random` to `ra`, we can write this as: \n",
    "```python\n",
    "c = ra.random(b.shape)\n",
    "```\n",
    "Remember, you can always get help for a function by writing e.g. `ra.random?` in your IPython console.\n",
    "Printing an array of random floating point numbers between zero and one doesn't show much, so we will visualize the array with a plotting function instead. Try running the below commands a few times to convince yourself that it is in fact a pretty well randomized set you get:"
   ]
  },
  {
   "cell_type": "code",
   "execution_count": null,
   "metadata": {
    "collapsed": true
   },
   "outputs": [],
   "source": [
    "# This cell should be ignored or deleted...\n",
    "plt.colormaps?"
   ]
  },
  {
   "cell_type": "code",
   "execution_count": null,
   "metadata": {
    "collapsed": true
   },
   "outputs": [],
   "source": [
    "plt.set_cmap('hot')\n",
    "c = ra.random(b.shape) * .5    \n",
    "plt.matshow(c)\n",
    "plt.colorbar()\n",
    "# plt.show()  # Remember to write this when calling it from the terminal"
   ]
  },
  {
   "cell_type": "markdown",
   "metadata": {},
   "source": [
    "Another convenience function gives you the Identity matrix, usually called $I$. Since `I` is a bad name for a function, they called it something very similar yet not the same:"
   ]
  },
  {
   "cell_type": "code",
   "execution_count": null,
   "metadata": {
    "collapsed": true
   },
   "outputs": [],
   "source": [
    "d = sp.eye(b.shape[0]); print(d) \n",
    "plt.matshow(d); plt.colorbar()\n",
    "#b.shape    # Arribute\n",
    "#b.max()    # Method"
   ]
  },
  {
   "cell_type": "markdown",
   "metadata": {},
   "source": [
    "### Array vs. matrix\n",
    "\n",
    "Unlike e.g. Matlab$^®$, NumPy doesn't perform matrix operations by default, but only when you specifically ask about it. If we use the arrays `c` and `d` as examples, the difference is quite clear. Taking the sum of the two is the same in both languages, as the matrix sum is just defined as the element-wise sum like it is explained in wikipedia: \n",
    "\n",
    "![Matrix sum](https://upload.wikimedia.org/math/7/e/c/7ec5cd9a9e5ef6cf052bfeed0cb8f0b3.png)"
   ]
  },
  {
   "cell_type": "markdown",
   "metadata": {},
   "source": [
    "In our case, the sum of `c` and `d`, hardly surprising, becomes:"
   ]
  },
  {
   "cell_type": "code",
   "execution_count": null,
   "metadata": {
    "collapsed": true
   },
   "outputs": [],
   "source": [
    "plt.matshow(c + d, interpolation='nearest'); plt.colorbar()"
   ]
  },
  {
   "cell_type": "markdown",
   "metadata": {},
   "source": [
    "However, in in NumPy our array is ***not treated as a matrix unless we explicitly do this***. \n",
    "\n",
    "Here's the difference (by the way, compare the diagonals):"
   ]
  },
  {
   "cell_type": "code",
   "execution_count": null,
   "metadata": {
    "collapsed": true
   },
   "outputs": [],
   "source": [
    "array_product = c * d           # Element-wise product\n",
    "matrix_product = sp.dot(d, c)   # Matrix product\n",
    "\n",
    "# And now some plotting magic:\n",
    "plt.subplot(121)\n",
    "plt.imshow(array_product, interpolation='nearest')\n",
    "plt.title('Element wise `Array` product \\n default in NumPy')\n",
    "plt.subplot(122)\n",
    "plt.imshow(matrix_product, interpolation='nearest')\n",
    "plt.title('`Matrix` product \\n default in Matlab/Octave')\n",
    "# plt.show()"
   ]
  },
  {
   "cell_type": "markdown",
   "metadata": {},
   "source": [
    "Let's call `c` and `d` interpreted as matrices $C$ and $D$, respectively.\n",
    "Since $D$ is the identity matrix, it should come as no surprise that $D C = C$.\n",
    "\n",
    "### Reshaping\n",
    "\n",
    "As mentioned, arrays are easily reshaped, as long as you don't mess up the total number of elements:"
   ]
  },
  {
   "cell_type": "code",
   "execution_count": null,
   "metadata": {
    "collapsed": true
   },
   "outputs": [],
   "source": [
    "e = sp.arange(64).reshape(1, -1)   # '-1' here means 'as many as it takes'. \n",
    "plt.imshow(e, interpolation='nearest')\n",
    "# plt.show()"
   ]
  },
  {
   "cell_type": "code",
   "execution_count": null,
   "metadata": {
    "collapsed": true
   },
   "outputs": [],
   "source": [
    "e = sp.arange(64).reshape((8, 8))   # Same array, different shape!\n",
    "plt.imshow(e, interpolation='nearest'); plt.colorbar()"
   ]
  },
  {
   "cell_type": "code",
   "execution_count": null,
   "metadata": {
    "collapsed": true
   },
   "outputs": [],
   "source": [
    "f = e.reshape((4, 16))\n",
    "plt.imshow(f, interpolation='nearest')\n",
    "plt.colorbar(orientation='horizontal')"
   ]
  },
  {
   "cell_type": "markdown",
   "metadata": {},
   "source": [
    "### On loops vs. arrays\n",
    "\n",
    "NumPy is optimized for performing element-wise operations on arrays in parallel.\n",
    "This means that you get both cleaner code and much faster computations if you utilize vectorization well.\n",
    "To give a completely unscientific idea about the kind of speed you gain, I have written my own function which raises an array`a` to the `x`th power, by looping through the array's indices $(i, j)$ and raise the elements **one by one**, where NumPy does it with all of them in parallel: "
   ]
  },
  {
   "cell_type": "code",
   "execution_count": null,
   "metadata": {
    "collapsed": true
   },
   "outputs": [],
   "source": [
    "def powerit2d(indata, expon):  # Version for 2D array\n",
    "    for i in range(indata.shape[0]):\n",
    "        for j in range(indata.shape[1]):\n",
    "            indata[i, j] = indata[i, j] ** expon\n",
    "    return indata\n",
    "\n",
    "\n",
    "def powerit3d(indata, expon):  # Version for 3D array\n",
    "    for i in range(indata.shape[0]):\n",
    "        for j in range(indata.shape[1]):\n",
    "            for k in range(indata.shape[2]):\n",
    "                indata[i, j, k] = indata[i, j, k] ** expon \n",
    "    return indata\n",
    "\n",
    "aa = ra.random((20, 20))\n",
    "aaa = ra.random((20, 20, 20))"
   ]
  },
  {
   "cell_type": "markdown",
   "metadata": {},
   "source": [
    "We now time the different methods operating on the 2D array. Note that different runs will give different results, this is *not* a strict benchmarking but only to give some rough feeling of the difference:"
   ]
  },
  {
   "cell_type": "code",
   "execution_count": null,
   "metadata": {
    "collapsed": true
   },
   "outputs": [],
   "source": [
    "%timeit aa ** 2000\n",
    "%timeit powerit2d(aa, 2000)"
   ]
  },
  {
   "cell_type": "markdown",
   "metadata": {},
   "source": [
    "A bit less than a factor of 50 in difference. Now for the 3D array:"
   ]
  },
  {
   "cell_type": "code",
   "execution_count": null,
   "metadata": {
    "collapsed": true
   },
   "outputs": [],
   "source": [
    "%timeit aaa ** 2000\n",
    "%timeit powerit3d(aaa, 2000)"
   ]
  },
  {
   "cell_type": "markdown",
   "metadata": {},
   "source": [
    "...which gives a slightly larger difference.\n",
    "\n",
    "**We really want to utilize NumPy's array optimization when we can.**"
   ]
  },
  {
   "cell_type": "markdown",
   "metadata": {},
   "source": [
    "## Slicing & Dicing\n",
    "\n",
    "*A short description of this section could be \"How to elegantly select subsets of your dataset\"*.\n",
    "\n",
    "Try to see what you get out of the following manipulations, and understand what they do. If you learn them, you can work very efficiently with $N$-simensional datasets:"
   ]
  },
  {
   "cell_type": "code",
   "execution_count": null,
   "metadata": {
    "collapsed": true
   },
   "outputs": [],
   "source": [
    "print(e)"
   ]
  },
  {
   "cell_type": "code",
   "execution_count": null,
   "metadata": {
    "collapsed": true
   },
   "outputs": [],
   "source": [
    "print(e[0, 0])"
   ]
  },
  {
   "cell_type": "code",
   "execution_count": null,
   "metadata": {
    "collapsed": true
   },
   "outputs": [],
   "source": [
    "print(e[:, 2:3]) # In these intervals, the last index value is not included."
   ]
  },
  {
   "cell_type": "code",
   "execution_count": null,
   "metadata": {
    "collapsed": true
   },
   "outputs": [],
   "source": [
    "print(e[2:4, :])"
   ]
  },
  {
   "cell_type": "code",
   "execution_count": null,
   "metadata": {
    "collapsed": true
   },
   "outputs": [],
   "source": [
    "print(e[2:4])    # Think a bit about this one."
   ]
  },
  {
   "cell_type": "code",
   "execution_count": null,
   "metadata": {
    "collapsed": true
   },
   "outputs": [],
   "source": [
    "print(e[2:-1, 0])\n",
    "print(e[2:-1, 0:1])  # What's the difference here?"
   ]
  },
  {
   "cell_type": "code",
   "execution_count": null,
   "metadata": {
    "collapsed": true
   },
   "outputs": [],
   "source": [
    "print e\n",
    "print(e[::-1, 0:2])"
   ]
  },
  {
   "cell_type": "code",
   "execution_count": null,
   "metadata": {
    "collapsed": true
   },
   "outputs": [],
   "source": [
    "print(e[1:6:2, :])"
   ]
  },
  {
   "cell_type": "code",
   "execution_count": null,
   "metadata": {
    "collapsed": true
   },
   "outputs": [],
   "source": [
    "print(e[::2, :])"
   ]
  },
  {
   "cell_type": "markdown",
   "metadata": {},
   "source": [
    "You can of course always assign one of these subsets to a new variable:"
   ]
  },
  {
   "cell_type": "code",
   "execution_count": null,
   "metadata": {
    "collapsed": true
   },
   "outputs": [],
   "source": [
    "f = e[1:6:2, :]    # Etc."
   ]
  },
  {
   "cell_type": "markdown",
   "metadata": {},
   "source": [
    "### Logical indexing:\n",
    "\n",
    "This is a way to perform operations on elements in your array when you don't know exactly where they are, but you know that they live up to a certain logical criterion, e.g. below we say \"please show me all elements in the array `g` for which we know that the element is an even number\""
   ]
  },
  {
   "cell_type": "code",
   "execution_count": null,
   "metadata": {
    "collapsed": true
   },
   "outputs": [],
   "source": [
    "g = sp.arange(64).reshape((8, 8))\n",
    "evens = sp.where(g % 2 == 0); print g[evens]"
   ]
  },
  {
   "cell_type": "markdown",
   "metadata": {},
   "source": [
    "The `where()` function can be used to pick elements by pretty complex criteria:"
   ]
  },
  {
   "cell_type": "code",
   "execution_count": null,
   "metadata": {
    "collapsed": true
   },
   "outputs": [],
   "source": [
    "my_indices = sp.where(((g > 10) & (g < 20)) | (g > 45))"
   ]
  },
  {
   "cell_type": "markdown",
   "metadata": {},
   "source": [
    "To see exactly what that last one did, we'll try to \"color\" the elements that it selected and plot the array:"
   ]
  },
  {
   "cell_type": "code",
   "execution_count": null,
   "metadata": {
    "collapsed": true
   },
   "outputs": [],
   "source": [
    "h = sp.ones_like(d); h[my_indices] = 0.\n",
    "print(h)\n",
    "plt.imshow(h, interpolation='nearest'); plt.colorbar()"
   ]
  },
  {
   "cell_type": "code",
   "execution_count": null,
   "metadata": {
    "collapsed": true
   },
   "outputs": [],
   "source": [
    "pp = sp.random.random((8, 8))\n",
    "idx = sp.where(pp > .75)\n",
    "qq = sp.zeros_like(pp)\n",
    "qq[idx] = 1\n",
    "\n",
    "plt.figure()\n",
    "plt.gcf().set_size_inches(9,4)\n",
    "plt.subplot(1, 2, 1)\n",
    "plt.imshow(pp, interpolation='nearest')#; plt.colorbar()\n",
    "plt.subplot(1, 2, 2)\n",
    "plt.imshow(qq, interpolation='nearest')"
   ]
  },
  {
   "cell_type": "markdown",
   "metadata": {},
   "source": [
    "## Learning more:\n",
    "\n",
    "There's a NumPy tutorial at the [SciPy Wiki](http://wiki.scipy.org/Tentative_NumPy_Tutorial).\n",
    "\n",
    "For users of Matlab and Octave, the web site [NumPy for Matlab users](http://wiki.scipy.org/NumPy_for_Matlab_Users) on the same wiki could be very useful.\n",
    "\n",
    "There's also a [NumPy for IDL users](http://wiki.scipy.org/NumPy_for_Matlab_Users) page which could possibly be quite useful also if you never used IDL."
   ]
  },
  {
   "cell_type": "markdown",
   "metadata": {},
   "source": [
    "## A couple of more general videos about Python i Science"
   ]
  },
  {
   "cell_type": "markdown",
   "metadata": {},
   "source": [
    "A video about how to use IPython for several steps in your work flow: Computations, plotting, writing papers etc."
   ]
  },
  {
   "cell_type": "code",
   "execution_count": 1,
   "metadata": {
    "collapsed": true
   },
   "outputs": [
    {
     "data": {
      "text/html": [
       "\n",
       "        <iframe\n",
       "            width=\"400\"\n",
       "            height=300\"\n",
       "            src=\"https://www.youtube.com/embed/iwVvqwLDsJo\"\n",
       "            frameborder=\"0\"\n",
       "            allowfullscreen\n",
       "        ></iframe>\n",
       "        "
      ],
      "text/plain": [
       "<IPython.lib.display.YouTubeVideo at 0x7fb6287d0390>"
      ]
     },
     "execution_count": 1,
     "metadata": {},
     "output_type": "execute_result"
    }
   ],
   "source": [
    "from IPython.display import YouTubeVideo\n",
    "YouTubeVideo('iwVvqwLDsJo')"
   ]
  },
  {
   "cell_type": "markdown",
   "metadata": {},
   "source": [
    "A talk by an astronomer at Berkeley about how Python can be used for everything from running a remote telescope over auto-detection of interesting discoveries to the publication process."
   ]
  },
  {
   "cell_type": "code",
   "execution_count": 2,
   "metadata": {
    "collapsed": true
   },
   "outputs": [
    {
     "data": {
      "text/html": [
       "\n",
       "        <iframe\n",
       "            width=\"400\"\n",
       "            height=300\"\n",
       "            src=\"https://www.youtube.com/embed/mLuIB8aW2KA\"\n",
       "            frameborder=\"0\"\n",
       "            allowfullscreen\n",
       "        ></iframe>\n",
       "        "
      ],
      "text/plain": [
       "<IPython.lib.display.YouTubeVideo at 0x7fb6287ca150>"
      ]
     },
     "execution_count": 2,
     "metadata": {},
     "output_type": "execute_result"
    }
   ],
   "source": [
    "YouTubeVideo('mLuIB8aW2KA')"
   ]
  },
  {
   "cell_type": "code",
   "execution_count": null,
   "metadata": {
    "collapsed": true
   },
   "outputs": [],
   "source": []
  }
 ],
 "metadata": {
  "kernelspec": {
   "display_name": "Python 2",
   "language": "python",
   "name": "python2"
  },
  "language_info": {
   "codemirror_mode": {
    "name": "ipython",
    "version": 2
   },
   "file_extension": ".py",
   "mimetype": "text/x-python",
   "name": "python",
   "nbconvert_exporter": "python",
   "pygments_lexer": "ipython2",
   "version": "2.7.9"
  }
 },
 "nbformat": 4,
 "nbformat_minor": 0
}
