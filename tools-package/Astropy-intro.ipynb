{
 "metadata": {
  "name": "",
  "signature": "sha256:d11bb49bc4e84acdedc43ba339c4e1e601bd45c7538808339b024de5d249eda1"
 },
 "nbformat": 3,
 "nbformat_minor": 0,
 "worksheets": [
  {
   "cells": [
    {
     "cell_type": "markdown",
     "metadata": {},
     "source": [
      "![](./Astropy_banner.png)"
     ]
    },
    {
     "cell_type": "markdown",
     "metadata": {},
     "source": [
      "# A Community Python Library for Astronomy\n",
      "\n",
      "**Astropy** is a bundle of several kinds of functionality for Astronomy. \n",
      "It consists of the *core packages*, providing base functionality for everyone, and *affiliated packages* which ontain more specialized functionality. The core packages have a minimum of dependencies, while affiliated packages are allowed to depend on external libraries. \n",
      "\n",
      "A selection of **core packages**:\n",
      "\n",
      "+ `astropy.constants`\n",
      "+ `astropy.units`\n",
      "+ `astropy.nddata` - *Numpy arrays on steroids*\n",
      "+ `astropy.io` - *file input/output, i.e. FITS and ASCII*\n",
      "+ `astropy.convolution` - *smoothing, filtering etc.*\n",
      "+ `astropy.cosmology` \n",
      "+ `astropy.modeling` - *modelling and fitting*\n",
      "\n",
      "Examples of affiliated packages:\n",
      "\n",
      "+ Ginga - *FITS image viewer based on Astropy*\n",
      "+ Montage-wrapper - *Advanced image handling*\n",
      "+ APLPy (\"Apple-pie\") - *Astronomical image plotting*\n",
      "+ astroquery - *Get data from online databases*\n",
      "\n",
      "...etc. etc.\n",
      "\n",
      "Obviously, there is way too much functionality in Astropy to do more than just scratch the paint.\n",
      "We have already looked at `astropy.io.fits`. We will now take a little look at:\n",
      "\n",
      "+ `astropy.units`\n",
      "+ `astropy.cosmology`"
     ]
    },
    {
     "cell_type": "markdown",
     "metadata": {},
     "source": [
      "## `astropy.units`"
     ]
    },
    {
     "cell_type": "code",
     "collapsed": false,
     "input": [
      "import numpy as np\n",
      "import matplotlib.pyplot as plt\n",
      "from matplotlib import cm\n",
      "from astropy import units as u\n",
      "from astropy import constants as con \n",
      "# Only when running in n IPython notebook:\n",
      "%matplotlib inline  "
     ],
     "language": "python",
     "metadata": {},
     "outputs": [],
     "prompt_number": 33
    },
    {
     "cell_type": "code",
     "collapsed": false,
     "input": [
      "# Just for good looks, no need to worry about this now.\n",
      "# You are welcome to do this but it is not necessary.\n",
      "c1 = cm.Reds(0.6)\n",
      "c2 = cm.Blues(0.6)\n",
      "c3 = cm.PuOr(0.3)\n",
      "plt.rc('xtick', labelsize=13)\n",
      "plt.rc('ytick', labelsize=13)\n",
      "plt.rc('font', size = 12)\n",
      "plt.rc('lines', linewidth=3)\n",
      "plt.rc('figure', figsize=(10.0, 7.0))\n",
      "plt.rcParams['axes.formatter.limits'] = (-3,3) #"
     ],
     "language": "python",
     "metadata": {},
     "outputs": [],
     "prompt_number": 34
    },
    {
     "cell_type": "code",
     "collapsed": false,
     "input": [
      "dist = 3.4159 * u.km\n",
      "dist"
     ],
     "language": "python",
     "metadata": {},
     "outputs": [
      {
       "latex": [
        "$3.4159 \\; \\mathrm{km}$"
       ],
       "metadata": {},
       "output_type": "pyout",
       "prompt_number": 38,
       "text": [
        "<Quantity 3.4159 km>"
       ]
      }
     ],
     "prompt_number": 38
    },
    {
     "cell_type": "code",
     "collapsed": false,
     "input": [
      "time = 2.7183 * u.h\n",
      "time"
     ],
     "language": "python",
     "metadata": {},
     "outputs": [
      {
       "latex": [
        "$2.7183 \\; \\mathrm{h}$"
       ],
       "metadata": {},
       "output_type": "pyout",
       "prompt_number": 44,
       "text": [
        "<Quantity 2.7183 h>"
       ]
      }
     ],
     "prompt_number": 44
    },
    {
     "cell_type": "code",
     "collapsed": false,
     "input": [
      "dist / time"
     ],
     "language": "python",
     "metadata": {},
     "outputs": [
      {
       "latex": [
        "$1.25663 \\; \\mathrm{\\frac{km}{h}}$"
       ],
       "metadata": {},
       "output_type": "pyout",
       "prompt_number": 45,
       "text": [
        "<Quantity 1.2566309825994186 km / h>"
       ]
      }
     ],
     "prompt_number": 45
    },
    {
     "cell_type": "code",
     "collapsed": false,
     "input": [
      "(_).to(u.km / u.s)"
     ],
     "language": "python",
     "metadata": {},
     "outputs": [
      {
       "latex": [
        "$0.000349064 \\; \\mathrm{\\frac{km}{s}}$"
       ],
       "metadata": {},
       "output_type": "pyout",
       "prompt_number": 47,
       "text": [
        "<Quantity 0.00034906416183317187 km / s>"
       ]
      }
     ],
     "prompt_number": 47
    },
    {
     "cell_type": "markdown",
     "metadata": {},
     "source": [
      "We can of course define custom units for our convenience:"
     ]
    },
    {
     "cell_type": "code",
     "collapsed": false,
     "input": [
      "kmph = u.Unit(u.km / u.hour)\n",
      "kms = u.Unit(u.km / u.s)\n",
      "mph = u.Unit(u.imperial.mile / u.hour)\n",
      "(200 * kmph).to(mph)"
     ],
     "language": "python",
     "metadata": {},
     "outputs": [
      {
       "latex": [
        "$124.274 \\; \\mathrm{\\frac{mi}{h}}$"
       ],
       "metadata": {},
       "output_type": "pyout",
       "prompt_number": 49,
       "text": [
        "<Quantity 124.27423844746681 mi / h>"
       ]
      }
     ],
     "prompt_number": 49
    },
    {
     "cell_type": "markdown",
     "metadata": {},
     "source": [
      "It handles NumPy arrays as well as single scalars:"
     ]
    },
    {
     "cell_type": "code",
     "collapsed": false,
     "input": [
      "speeds = np.arange(100, 200) * kmph\n",
      "print(speeds.to(mph))"
     ],
     "language": "python",
     "metadata": {},
     "outputs": [
      {
       "output_type": "stream",
       "stream": "stdout",
       "text": [
        "[  62.13711922   62.75849042   63.37986161   64.0012328    64.62260399\n",
        "   65.24397518   65.86534638   66.48671757   67.10808876   67.72945995\n",
        "   68.35083115   68.97220234   69.59357353   70.21494472   70.83631592\n",
        "   71.45768711   72.0790583    72.70042949   73.32180068   73.94317188\n",
        "   74.56454307   75.18591426   75.80728545   76.42865665   77.05002784\n",
        "   77.67139903   78.29277022   78.91414141   79.53551261   80.1568838\n",
        "   80.77825499   81.39962618   82.02099738   82.64236857   83.26373976\n",
        "   83.88511095   84.50648214   85.12785334   85.74922453   86.37059572\n",
        "   86.99196691   87.61333811   88.2347093    88.85608049   89.47745168\n",
        "   90.09882287   90.72019407   91.34156526   91.96293645   92.58430764\n",
        "   93.20567884   93.82705003   94.44842122   95.06979241   95.6911636\n",
        "   96.3125348    96.93390599   97.55527718   98.17664837   98.79801957\n",
        "   99.41939076  100.04076195  100.66213314  101.28350433  101.90487553\n",
        "  102.52624672  103.14761791  103.7689891   104.3903603   105.01173149\n",
        "  105.63310268  106.25447387  106.87584506  107.49721626  108.11858745\n",
        "  108.73995864  109.36132983  109.98270103  110.60407222  111.22544341\n",
        "  111.8468146   112.46818579  113.08955699  113.71092818  114.33229937\n",
        "  114.95367056  115.57504176  116.19641295  116.81778414  117.43915533\n",
        "  118.06052653  118.68189772  119.30326891  119.9246401   120.54601129\n",
        "  121.16738249  121.78875368  122.41012487  123.03149606  123.65286726] mi / h\n"
       ]
      }
     ],
     "prompt_number": 36
    },
    {
     "cell_type": "code",
     "collapsed": false,
     "input": [
      "print speeds.to(u.lightyear/u.millisecond)"
     ],
     "language": "python",
     "metadata": {},
     "outputs": [
      {
       "output_type": "stream",
       "stream": "stdout",
       "text": [
        "[  2.93611343e-18   2.96547456e-18   2.99483570e-18   3.02419683e-18\n",
        "   3.05355796e-18   3.08291910e-18   3.11228023e-18   3.14164137e-18\n",
        "   3.17100250e-18   3.20036364e-18   3.22972477e-18   3.25908590e-18\n",
        "   3.28844704e-18   3.31780817e-18   3.34716931e-18   3.37653044e-18\n",
        "   3.40589158e-18   3.43525271e-18   3.46461384e-18   3.49397498e-18\n",
        "   3.52333611e-18   3.55269725e-18   3.58205838e-18   3.61141952e-18\n",
        "   3.64078065e-18   3.67014178e-18   3.69950292e-18   3.72886405e-18\n",
        "   3.75822519e-18   3.78758632e-18   3.81694746e-18   3.84630859e-18\n",
        "   3.87566972e-18   3.90503086e-18   3.93439199e-18   3.96375313e-18\n",
        "   3.99311426e-18   4.02247540e-18   4.05183653e-18   4.08119766e-18\n",
        "   4.11055880e-18   4.13991993e-18   4.16928107e-18   4.19864220e-18\n",
        "   4.22800334e-18   4.25736447e-18   4.28672560e-18   4.31608674e-18\n",
        "   4.34544787e-18   4.37480901e-18   4.40417014e-18   4.43353128e-18\n",
        "   4.46289241e-18   4.49225354e-18   4.52161468e-18   4.55097581e-18\n",
        "   4.58033695e-18   4.60969808e-18   4.63905922e-18   4.66842035e-18\n",
        "   4.69778148e-18   4.72714262e-18   4.75650375e-18   4.78586489e-18\n",
        "   4.81522602e-18   4.84458716e-18   4.87394829e-18   4.90330942e-18\n",
        "   4.93267056e-18   4.96203169e-18   4.99139283e-18   5.02075396e-18\n",
        "   5.05011510e-18   5.07947623e-18   5.10883736e-18   5.13819850e-18\n",
        "   5.16755963e-18   5.19692077e-18   5.22628190e-18   5.25564304e-18\n",
        "   5.28500417e-18   5.31436530e-18   5.34372644e-18   5.37308757e-18\n",
        "   5.40244871e-18   5.43180984e-18   5.46117098e-18   5.49053211e-18\n",
        "   5.51989324e-18   5.54925438e-18   5.57861551e-18   5.60797665e-18\n",
        "   5.63733778e-18   5.66669892e-18   5.69606005e-18   5.72542118e-18\n",
        "   5.75478232e-18   5.78414345e-18   5.81350459e-18   5.84286572e-18] lyr / ms\n"
       ]
      }
     ],
     "prompt_number": 5
    },
    {
     "cell_type": "code",
     "collapsed": false,
     "input": [
      "type(speeds)"
     ],
     "language": "python",
     "metadata": {},
     "outputs": [
      {
       "metadata": {},
       "output_type": "pyout",
       "prompt_number": 6,
       "text": [
        "astropy.units.quantity.Quantity"
       ]
      }
     ],
     "prompt_number": 6
    },
    {
     "cell_type": "markdown",
     "metadata": {},
     "source": [
      "Astropy's `Quantity` objects plays nicely with the rest of the SciPy ecosystem by disguising themselves as `numpy.ndarray`'s.\n",
      "No need to convert before sending them to e.g. Matplotlib. They also play nicely with most simple numpy functions:"
     ]
    },
    {
     "cell_type": "code",
     "collapsed": false,
     "input": [
      "plt.plot(speeds, np.sqrt(speeds.to(mph)))"
     ],
     "language": "python",
     "metadata": {},
     "outputs": [
      {
       "metadata": {},
       "output_type": "pyout",
       "prompt_number": 7,
       "text": [
        "[<matplotlib.lines.Line2D at 0x7f8e6a278f90>]"
       ]
      },
      {
       "metadata": {},
       "output_type": "display_data",
       "png": "[encoded data removed]",
       "text": [
        "<matplotlib.figure.Figure at 0x7f8e6a352e50>"
       ]
      }
     ],
     "prompt_number": 7
    },
    {
     "cell_type": "markdown",
     "metadata": {},
     "source": [
      "...But not all, which makes sense because log(km/h) is meaningless:"
     ]
    },
    {
     "cell_type": "code",
     "collapsed": false,
     "input": [
      "np.sqrt(speeds)"
     ],
     "language": "python",
     "metadata": {},
     "outputs": [
      {
       "metadata": {},
       "output_type": "pyout",
       "prompt_number": 8,
       "text": [
        "<Quantity [ 10.        , 10.04987562, 10.09950494, 10.14889157,\n",
        "            10.19803903, 10.24695077, 10.29563014, 10.34408043,\n",
        "            10.39230485, 10.44030651, 10.48808848, 10.53565375,\n",
        "            10.58300524, 10.63014581, 10.67707825, 10.72380529,\n",
        "            10.77032961, 10.81665383, 10.86278049, 10.90871211,\n",
        "            10.95445115, 11.        , 11.04536102, 11.09053651,\n",
        "            11.13552873, 11.18033989, 11.22497216, 11.26942767,\n",
        "            11.3137085 , 11.35781669, 11.40175425, 11.44552314,\n",
        "            11.48912529, 11.53256259, 11.5758369 , 11.61895004,\n",
        "            11.66190379, 11.70469991, 11.74734012, 11.78982612,\n",
        "            11.83215957, 11.87434209, 11.91637529, 11.95826074,\n",
        "            12.        , 12.04159458, 12.08304597, 12.12435565,\n",
        "            12.16552506, 12.20655562, 12.24744871, 12.28820573,\n",
        "            12.32882801, 12.36931688, 12.40967365, 12.4498996 ,\n",
        "            12.489996  , 12.52996409, 12.56980509, 12.60952021,\n",
        "            12.64911064, 12.68857754, 12.72792206, 12.76714533,\n",
        "            12.80624847, 12.84523258, 12.88409873, 12.92284798,\n",
        "            12.9614814 , 13.        , 13.03840481, 13.07669683,\n",
        "            13.11487705, 13.15294644, 13.19090596, 13.22875656,\n",
        "            13.26649916, 13.3041347 , 13.34166406, 13.37908816,\n",
        "            13.41640786, 13.45362405, 13.49073756, 13.52774926,\n",
        "            13.56465997, 13.60147051, 13.6381817 , 13.67479433,\n",
        "            13.7113092 , 13.74772708, 13.78404875, 13.82027496,\n",
        "            13.85640646, 13.89244399, 13.92838828, 13.96424004,\n",
        "            14.        , 14.03566885, 14.07124728, 14.10673598] km(1/2) / h(1/2)>"
       ]
      }
     ],
     "prompt_number": 8
    },
    {
     "cell_type": "code",
     "collapsed": false,
     "input": [
      "np.log10(speeds)"
     ],
     "language": "python",
     "metadata": {},
     "outputs": [
      {
       "ename": "TypeError",
       "evalue": "Can only apply 'log10' function to dimensionless quantities",
       "output_type": "pyerr",
       "traceback": [
        "\u001b[1;31m---------------------------------------------------------------------------\u001b[0m\n\u001b[1;31mTypeError\u001b[0m                                 Traceback (most recent call last)",
        "\u001b[1;32m<ipython-input-9-abd8bbabc22f>\u001b[0m in \u001b[0;36m<module>\u001b[1;34m()\u001b[0m\n\u001b[1;32m----> 1\u001b[1;33m \u001b[0mnp\u001b[0m\u001b[1;33m.\u001b[0m\u001b[0mlog10\u001b[0m\u001b[1;33m(\u001b[0m\u001b[0mspeeds\u001b[0m\u001b[1;33m)\u001b[0m\u001b[1;33m\u001b[0m\u001b[0m\n\u001b[0m",
        "\u001b[1;32m/home/trive/anaconda/lib/python2.7/site-packages/astropy/units/quantity.pyc\u001b[0m in \u001b[0;36m__array_prepare__\u001b[1;34m(self, obj, context)\u001b[0m\n\u001b[0;32m    281\u001b[0m         \u001b[1;31m# the unit the output from the ufunc will have.\u001b[0m\u001b[1;33m\u001b[0m\u001b[1;33m\u001b[0m\u001b[0m\n\u001b[0;32m    282\u001b[0m         \u001b[1;32mif\u001b[0m \u001b[0mfunction\u001b[0m \u001b[1;32min\u001b[0m \u001b[0mUFUNC_HELPERS\u001b[0m\u001b[1;33m:\u001b[0m\u001b[1;33m\u001b[0m\u001b[0m\n\u001b[1;32m--> 283\u001b[1;33m             \u001b[0mscales\u001b[0m\u001b[1;33m,\u001b[0m \u001b[0mresult_unit\u001b[0m \u001b[1;33m=\u001b[0m \u001b[0mUFUNC_HELPERS\u001b[0m\u001b[1;33m[\u001b[0m\u001b[0mfunction\u001b[0m\u001b[1;33m]\u001b[0m\u001b[1;33m(\u001b[0m\u001b[0mfunction\u001b[0m\u001b[1;33m,\u001b[0m \u001b[1;33m*\u001b[0m\u001b[0munits\u001b[0m\u001b[1;33m)\u001b[0m\u001b[1;33m\u001b[0m\u001b[0m\n\u001b[0m\u001b[0;32m    284\u001b[0m         \u001b[1;32melse\u001b[0m\u001b[1;33m:\u001b[0m\u001b[1;33m\u001b[0m\u001b[0m\n\u001b[0;32m    285\u001b[0m             raise TypeError(\"Unknown ufunc {0}.  Please raise issue on \"\n",
        "\u001b[1;32m/home/trive/anaconda/lib/python2.7/site-packages/astropy/units/quantity_helper.pyc\u001b[0m in \u001b[0;36mhelper_dimensionless_to_dimensionless\u001b[1;34m(f, unit)\u001b[0m\n\u001b[0;32m     87\u001b[0m         raise TypeError(\"Can only apply '{0}' function to \"\n\u001b[0;32m     88\u001b[0m                         \u001b[1;34m\"dimensionless quantities\"\u001b[0m\u001b[1;33m\u001b[0m\u001b[0m\n\u001b[1;32m---> 89\u001b[1;33m                         .format(f.__name__))\n\u001b[0m\u001b[0;32m     90\u001b[0m     \u001b[1;32mreturn\u001b[0m \u001b[1;33m[\u001b[0m\u001b[0mscale\u001b[0m\u001b[1;33m]\u001b[0m\u001b[1;33m,\u001b[0m \u001b[0mdimensionless_unscaled\u001b[0m\u001b[1;33m\u001b[0m\u001b[0m\n\u001b[0;32m     91\u001b[0m \u001b[1;33m\u001b[0m\u001b[0m\n",
        "\u001b[1;31mTypeError\u001b[0m: Can only apply 'log10' function to dimensionless quantities"
       ]
      }
     ],
     "prompt_number": 9
    },
    {
     "cell_type": "markdown",
     "metadata": {},
     "source": [
      "The solution to this is a little annoying but there's no way around it:"
     ]
    },
    {
     "cell_type": "code",
     "collapsed": false,
     "input": [
      "logspeeds = np.log10(speeds.to(mph).value)  # No units anymore!\n",
      "print(logspeeds)\n",
      "plt.plot(speeds, logspeeds)\n",
      "plt.show()"
     ],
     "language": "python",
     "metadata": {},
     "outputs": [
      {
       "output_type": "stream",
       "stream": "stdout",
       "text": [
        "[ 1.79335111  1.79767249  1.80195129  1.80618834  1.81038445  1.81454041\n",
        "  1.81865698  1.82273489  1.82677487  1.83077761  1.8347438   1.83867409\n",
        "  1.84256914  1.84642956  1.85025597  1.85404896  1.8578091   1.86153698\n",
        "  1.86523312  1.86889808  1.87253236  1.87613649  1.87971095  1.88325623\n",
        "  1.8867728   1.89026113  1.89372166  1.89715484  1.90056108  1.90394083\n",
        "  1.90729447  1.91062241  1.91392505  1.91720276  1.92045591  1.92368488\n",
        "  1.92689002  1.93007168  1.9332302   1.93636592  1.93947915  1.94257023\n",
        "  1.94563946  1.94868715  1.95171361  1.95471912  1.95770397  1.96066845\n",
        "  1.96361283  1.96653738  1.96944237  1.97232806  1.9751947   1.97804255\n",
        "  1.98087184  1.98368281  1.98647571  1.98925077  1.9920082   1.99474824\n",
        "  1.9974711   2.00017699  2.00286613  2.00553872  2.00819496  2.01083506\n",
        "  2.0134592   2.01606759  2.0186604   2.02123782  2.02380004  2.02634723\n",
        "  2.02887956  2.03139722  2.03390036  2.03638916  2.03886378  2.04132438\n",
        "  2.04377112  2.04620415  2.04862362  2.05102969  2.0534225   2.0558022\n",
        "  2.05816894  2.06052284  2.06286406  2.06519272  2.06750896  2.06981292\n",
        "  2.07210472  2.07438448  2.07665234  2.07890842  2.08115284  2.08338573\n",
        "  2.08560719  2.08781734  2.09001631  2.09220419]\n"
       ]
      },
      {
       "metadata": {},
       "output_type": "display_data",
       "png": "[encoded data removed]",
       "text": [
        "<matplotlib.figure.Figure at 0x7f8e6a261590>"
       ]
      }
     ],
     "prompt_number": 10
    },
    {
     "cell_type": "markdown",
     "metadata": {},
     "source": [
      "\n",
      "\n",
      "\n",
      "## `astropy.cosmology`"
     ]
    },
    {
     "cell_type": "code",
     "collapsed": false,
     "input": [
      "from astropy.cosmology import Planck13, LambdaCDM"
     ],
     "language": "python",
     "metadata": {},
     "outputs": [],
     "prompt_number": 11
    },
    {
     "cell_type": "code",
     "collapsed": false,
     "input": [
      "pl13 = Planck13\n",
      "redshifts = np.linspace(0.001, 100, 100)"
     ],
     "language": "python",
     "metadata": {},
     "outputs": [],
     "prompt_number": 12
    },
    {
     "cell_type": "code",
     "collapsed": false,
     "input": [
      "pl13.lookback_time(7.8)"
     ],
     "language": "python",
     "metadata": {},
     "outputs": [
      {
       "latex": [
        "$13.1355 \\; \\mathrm{Gyr}$"
       ],
       "metadata": {},
       "output_type": "pyout",
       "prompt_number": 13,
       "text": [
        "<Quantity 13.135487047678124 Gyr>"
       ]
      }
     ],
     "prompt_number": 13
    },
    {
     "cell_type": "code",
     "collapsed": false,
     "input": [
      "pl13.angular_diameter_distance(redshifts)"
     ],
     "language": "python",
     "metadata": {},
     "outputs": [
      {
       "metadata": {},
       "output_type": "pyout",
       "prompt_number": 14,
       "text": [
        "<Quantity [    4.41823263, 1701.89483502, 1768.15666645, 1622.24519705,\n",
        "            1461.51845089, 1319.11084429, 1198.20127448, 1096.10255984,\n",
        "            1009.43135739,  935.23098014,  871.1271297 ,  815.25727217,\n",
        "             766.16458236,  722.70378618,  683.96706805,  649.22804468,\n",
        "             617.89990425,  589.50413756,  563.64706083,  540.00205354,\n",
        "             518.29600201,  498.2988584 ,  479.81552582,  462.67949537,\n",
        "             446.74781434,  431.89707476,  418.02019063,  405.02378999,\n",
        "             392.82608989,  381.35515352,  370.54745206,  360.34667099,\n",
        "             350.70271389,  341.5708667 ,  332.91109316,  324.68743805,\n",
        "             316.86751948,  309.42209513,  302.32469024,  295.55127716,\n",
        "             289.07999861,  282.8909275 ,  276.96585816,  271.28812395,\n",
        "             265.84243768,  260.61475154,  255.59213367,  250.76265928,\n",
        "             246.11531429,  241.6399098 ,  237.32700606,  233.16784473,\n",
        "             229.15428827,  225.27876584,  221.53422466,  217.91408632,\n",
        "             214.4122075 ,  211.02284444,  207.74062096,  204.56049941,\n",
        "             201.47775434,  198.48794871,  195.58691206,  192.77072083,\n",
        "             190.03568023,  187.37830781,  184.79531837,  182.28361017,\n",
        "             179.84025223,  177.46247274,  175.14764838,  172.89329443,\n",
        "             170.6970558 ,  168.55669856,  166.47010232,  164.43525302,\n",
        "             162.45023638,  160.51323176,  158.62250648,  156.77641056,\n",
        "             154.97337186,  153.2118915 ,  151.49053965,  149.80795155,\n",
        "             148.16282391,  146.55391143,  144.9800236 ,  143.44002173,\n",
        "             141.93281615,  140.4573636 ,  139.01266476,  137.59776197,\n",
        "             136.21173707,  134.85370939,  133.52283384,  132.21829911,\n",
        "             130.93932603,  129.68516599,  128.45509941,  127.24843438] Mpc>"
       ]
      }
     ],
     "prompt_number": 14
    },
    {
     "cell_type": "code",
     "collapsed": false,
     "input": [
      "plt.plot(redshifts, pl13.angular_diameter_distance(redshifts))"
     ],
     "language": "python",
     "metadata": {},
     "outputs": [
      {
       "metadata": {},
       "output_type": "pyout",
       "prompt_number": 15,
       "text": [
        "[<matplotlib.lines.Line2D at 0x7f8e668c3150>]"
       ]
      },
      {
       "metadata": {},
       "output_type": "display_data",
       "png": "[encoded data removed]",
       "text": [
        "<matplotlib.figure.Figure at 0x7f8e6a1efa10>"
       ]
      }
     ],
     "prompt_number": 15
    },
    {
     "cell_type": "code",
     "collapsed": false,
     "input": [
      "pl13.comoving_distance(redshifts).to(u.lightyear)"
     ],
     "language": "python",
     "metadata": {},
     "outputs": [
      {
       "metadata": {},
       "output_type": "pyout",
       "prompt_number": 16,
       "text": [
        "<Quantity [  1.44247579e+07,  1.11632409e+10,  1.74230218e+10,\n",
        "             2.13296904e+10,  2.40313519e+10,  2.60355611e+10,\n",
        "             2.75965894e+10,  2.88561678e+10,  2.98999955e+10,\n",
        "             3.07832293e+10,  3.15431515e+10,  3.22059726e+10,\n",
        "             3.27907228e+10,  3.33115945e+10,  3.37794155e+10,\n",
        "             3.42026086e+10,  3.45878370e+10,  3.49404502e+10,\n",
        "             3.52647993e+10,  3.55644639e+10,  3.58424199e+10,\n",
        "             3.61011641e+10,  3.63428092e+10,  3.65691562e+10,\n",
        "             3.67817516e+10,  3.69819313e+10,  3.71708567e+10,\n",
        "             3.73495423e+10,  3.75188792e+10,  3.76796537e+10,\n",
        "             3.78325625e+10,  3.79782253e+10,  3.81171958e+10,\n",
        "             3.82499701e+10,  3.83769943e+10,  3.84986709e+10,\n",
        "             3.86153640e+10,  3.87274038e+10,  3.88350910e+10,\n",
        "             3.89386994e+10,  3.90384795e+10,  3.91346608e+10,\n",
        "             3.92274539e+10,  3.93170526e+10,  3.94036356e+10,\n",
        "             3.94873677e+10,  3.95684017e+10,  3.96468788e+10,\n",
        "             3.97229304e+10,  3.97966785e+10,  3.98682366e+10,\n",
        "             3.99377106e+10,  4.00051995e+10,  4.00707957e+10,\n",
        "             4.01345857e+10,  4.01966505e+10,  4.02570663e+10,\n",
        "             4.03159045e+10,  4.03732323e+10,  4.04291130e+10,\n",
        "             4.04836063e+10,  4.05367683e+10,  4.05886522e+10,\n",
        "             4.06393081e+10,  4.06887835e+10,  4.07371235e+10,\n",
        "             4.07843704e+10,  4.08305648e+10,  4.08757449e+10,\n",
        "             4.09199472e+10,  4.09632062e+10,  4.10055549e+10,\n",
        "             4.10470246e+10,  4.10876451e+10,  4.11274448e+10,\n",
        "             4.11664510e+10,  4.12046894e+10,  4.12421849e+10,\n",
        "             4.12789610e+10,  4.13150403e+10,  4.13504443e+10,\n",
        "             4.13851939e+10,  4.14193088e+10,  4.14528080e+10,\n",
        "             4.14857096e+10,  4.15180312e+10,  4.15497894e+10,\n",
        "             4.15810003e+10,  4.16116794e+10,  4.16418416e+10,\n",
        "             4.16715010e+10,  4.17006714e+10,  4.17293660e+10,\n",
        "             4.17575976e+10,  4.17853783e+10,  4.18127199e+10,\n",
        "             4.18396339e+10,  4.18661311e+10,  4.18922222e+10,\n",
        "             4.19179173e+10] lyr>"
       ]
      }
     ],
     "prompt_number": 16
    },
    {
     "cell_type": "code",
     "collapsed": false,
     "input": [
      "plt.plot(redshifts, pl13.comoving_distance(redshifts).to(u.lightyear))"
     ],
     "language": "python",
     "metadata": {},
     "outputs": [
      {
       "metadata": {},
       "output_type": "pyout",
       "prompt_number": 17,
       "text": [
        "[<matplotlib.lines.Line2D at 0x7f8e667dded0>]"
       ]
      },
      {
       "metadata": {},
       "output_type": "display_data",
       "png": "[encoded data removed]",
       "text": [
        "<matplotlib.figure.Figure at 0x7f8e6a1df150>"
       ]
      }
     ],
     "prompt_number": 17
    },
    {
     "cell_type": "code",
     "collapsed": false,
     "input": [
      "pl13.angular_diameter_distance(8.4)"
     ],
     "language": "python",
     "metadata": {},
     "outputs": [
      {
       "latex": [
        "$984.829 \\; \\mathrm{Mpc}$"
       ],
       "metadata": {},
       "output_type": "pyout",
       "prompt_number": 18,
       "text": [
        "<Quantity 984.8292715121066 Mpc>"
       ]
      }
     ],
     "prompt_number": 18
    },
    {
     "cell_type": "code",
     "collapsed": false,
     "input": [
      "plt.plot(redshifts, pl13.luminosity_distance(redshifts))"
     ],
     "language": "python",
     "metadata": {},
     "outputs": [
      {
       "metadata": {},
       "output_type": "pyout",
       "prompt_number": 19,
       "text": [
        "[<matplotlib.lines.Line2D at 0x7f8e6678fb50>]"
       ]
      },
      {
       "metadata": {},
       "output_type": "display_data",
       "png": "[encoded data removed]",
       "text": [
        "<matplotlib.figure.Figure at 0x7f8e6680fed0>"
       ]
      }
     ],
     "prompt_number": 19
    },
    {
     "cell_type": "code",
     "collapsed": false,
     "input": [
      "redshift = 0.3\n",
      "pl13.comoving_distance(redshift)"
     ],
     "language": "python",
     "metadata": {},
     "outputs": [
      {
       "latex": [
        "$1231.38 \\; \\mathrm{Mpc}$"
       ],
       "metadata": {},
       "output_type": "pyout",
       "prompt_number": 20,
       "text": [
        "<Quantity 1231.383950010706 Mpc>"
       ]
      }
     ],
     "prompt_number": 20
    },
    {
     "cell_type": "markdown",
     "metadata": {},
     "source": [
      "**Question:** *What is the current recession velocity at this distance?*"
     ]
    },
    {
     "cell_type": "code",
     "collapsed": false,
     "input": [
      "def vel_now(z):\n",
      "    return pl13.H0 * pl13.comoving_distance(z)\n",
      "\n",
      "vel_now(redshift)"
     ],
     "language": "python",
     "metadata": {},
     "outputs": [
      {
       "latex": [
        "$83450.9 \\; \\mathrm{\\frac{km}{s}}$"
       ],
       "metadata": {},
       "output_type": "pyout",
       "prompt_number": 21,
       "text": [
        "<Quantity 83450.89029222554 km / s>"
       ]
      }
     ],
     "prompt_number": 21
    },
    {
     "cell_type": "markdown",
     "metadata": {},
     "source": [
      "But not to worry, the more interesting question is: What was the recession velocity *at the time of emission*:"
     ]
    },
    {
     "cell_type": "code",
     "collapsed": false,
     "input": [
      "def vel_em(z): \n",
      "    return pl13.H(z) * pl13.scale_factor(z) * pl13.comoving_distance(z)\n",
      "\n",
      "vel_em(redshift)"
     ],
     "language": "python",
     "metadata": {},
     "outputs": [
      {
       "latex": [
        "$75121.1 \\; \\mathrm{\\frac{km}{s}}$"
       ],
       "metadata": {},
       "output_type": "pyout",
       "prompt_number": 22,
       "text": [
        "<Quantity 75121.07168934375 km / s>"
       ]
      }
     ],
     "prompt_number": 22
    },
    {
     "cell_type": "code",
     "collapsed": false,
     "input": [
      "pl13.H(redshift)"
     ],
     "language": "python",
     "metadata": {},
     "outputs": [
      {
       "latex": [
        "$79.307 \\; \\mathrm{\\frac{km}{Mpc\\,s}}$"
       ],
       "metadata": {},
       "output_type": "pyout",
       "prompt_number": 23,
       "text": [
        "<Quantity 79.30702133586996 km / (Mpc s)>"
       ]
      }
     ],
     "prompt_number": 23
    },
    {
     "cell_type": "code",
     "collapsed": false,
     "input": [
      "pl13.scale_factor(redshift)"
     ],
     "language": "python",
     "metadata": {},
     "outputs": [
      {
       "metadata": {},
       "output_type": "pyout",
       "prompt_number": 24,
       "text": [
        "0.7692307692307692"
       ]
      }
     ],
     "prompt_number": 24
    },
    {
     "cell_type": "code",
     "collapsed": false,
     "input": [
      "pl13.comoving_distance(redshift)"
     ],
     "language": "python",
     "metadata": {},
     "outputs": [
      {
       "latex": [
        "$1231.38 \\; \\mathrm{Mpc}$"
       ],
       "metadata": {},
       "output_type": "pyout",
       "prompt_number": 25,
       "text": [
        "<Quantity 1231.383950010706 Mpc>"
       ]
      }
     ],
     "prompt_number": 25
    },
    {
     "cell_type": "code",
     "collapsed": false,
     "input": [
      "plt.plot((redshifts), vel_em(redshifts), label='Velovity now')\n",
      "plt.plot((redshifts), vel_now(redshifts), label='Velocity at emission')\n",
      "plt.axhline(con.c.to(kms).value, color='k', ls='--')\n",
      "plt.legend(loc='best')\n",
      "#plt.axis((-.1, 3, 0, 4e5))\n",
      "#plt.plot(redshifts, vel_em(redshifts))"
     ],
     "language": "python",
     "metadata": {},
     "outputs": [
      {
       "metadata": {},
       "output_type": "pyout",
       "prompt_number": 31,
       "text": [
        "<matplotlib.legend.Legend at 0x7f8e66455810>"
       ]
      },
      {
       "metadata": {},
       "output_type": "display_data",
       "png": "[encoded data removed]",
       "text": [
        "<matplotlib.figure.Figure at 0x7f8e66507750>"
       ]
      }
     ],
     "prompt_number": 31
    },
    {
     "cell_type": "code",
     "collapsed": false,
     "input": [
      "MatDom = LambdaCDM(0.7, 0.3, 0)\n",
      "MatDom"
     ],
     "language": "python",
     "metadata": {},
     "outputs": [
      {
       "metadata": {},
       "output_type": "pyout",
       "prompt_number": 177,
       "text": [
        "LambdaCDM(H0=0.7 km / (Mpc s), Om0=0.3, Ode0=0, Tcmb0=2.725 K, Neff=3.04, m_nu=[ 0.  0.  0.] eV)"
       ]
      }
     ],
     "prompt_number": 177
    },
    {
     "cell_type": "code",
     "collapsed": false,
     "input": [],
     "language": "python",
     "metadata": {},
     "outputs": [],
     "prompt_number": 30
    },
    {
     "cell_type": "code",
     "collapsed": false,
     "input": [],
     "language": "python",
     "metadata": {},
     "outputs": []
    }
   ],
   "metadata": {}
  }
 ]
}